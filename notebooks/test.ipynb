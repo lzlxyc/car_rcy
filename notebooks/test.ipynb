{
 "cells": [
  {
   "metadata": {
    "ExecuteTime": {
     "end_time": "2025-07-12T13:37:36.822901Z",
     "start_time": "2025-07-12T13:37:36.814686Z"
    }
   },
   "cell_type": "code",
   "source": [
    "import json\n",
    "\n",
    "import pandas as pd\n",
    "import numpy as np\n",
    "from dateutil.parser import parse\n",
    "from collections import Counter\n",
    "from datetime import datetime\n",
    "\n",
    "from modelscope.models.nlp.mglm.data_utils.datasets import json_dataset\n"
   ],
   "id": "546fd5263c76aa9c",
   "outputs": [],
   "execution_count": 81
  },
  {
   "metadata": {
    "ExecuteTime": {
     "end_time": "2025-07-12T13:41:50.624387Z",
     "start_time": "2025-07-12T13:41:50.603748Z"
    }
   },
   "cell_type": "code",
   "source": [
    "# 1. 处理列表型字段（拆分并排序）\n",
    "def process_list_fields(df):\n",
    "    df = df[df['ord_cnt'] > 5].copy()\n",
    "\n",
    "    # 拆分点击/订单列表\n",
    "    df['clk_biz_list'] = df['clk_biz_list'].apply(lambda x: x.split(',') if pd.notna(x) else [])\n",
    "    df['clk_date_time_list'] = df['clk_date_time_list'].apply(\n",
    "        lambda x: [parse(t) for t in x.split(',')] if pd.notna(x) else []\n",
    "    )\n",
    "    df['ord_biz_list'] = df['ord_biz_list'].apply(lambda x: x.split(',') if pd.notna(x) else [])\n",
    "    df['ord_date_time_list'] = df['ord_date_time_list'].apply(\n",
    "        lambda x: [parse(t) for t in x.split(',')] if pd.notna(x) else []\n",
    "    )\n",
    "\n",
    "    # 按时间排序点击/订单序列\n",
    "    def sort_by_time(biz_list, time_list):\n",
    "        if len(biz_list) != len(time_list):\n",
    "            min_len = min(len(biz_list), len(time_list))\n",
    "            biz_list = biz_list[-min_len:]\n",
    "            time_list = time_list[-min_len:]\n",
    "        combined = sorted(zip(time_list, biz_list), key=lambda x: x[0])\n",
    "        return [b for t, b in combined], [t for t, b in combined]\n",
    "\n",
    "    df['sorted_clk_biz'], df['sorted_clk_time'] = zip(*df.apply(\n",
    "        lambda row: sort_by_time(row['clk_biz_list'], row['clk_date_time_list']), axis=1\n",
    "    ))\n",
    "\n",
    "    df['sorted_ord_biz'], df['sorted_ord_time'] = zip(*df.apply(\n",
    "        lambda row: sort_by_time(row['ord_biz_list'], row['ord_date_time_list']), axis=1\n",
    "    ))\n",
    "    return df\n",
    "\n",
    "\n",
    "def analyze_travel_patterns(df):\n",
    "    \"\"\"\n",
    "    对用户出行记录进行时间维度的统计分析，生成交通方式规律特征\n",
    "\n",
    "    参数:\n",
    "        df: 包含uid、sorted_ord_biz、sorted_ord_time字段的DataFrame\n",
    "\n",
    "    返回:\n",
    "        新增特征后的DataFrame\n",
    "    \"\"\"\n",
    "    # 初始化新特征列\n",
    "    new_features = pd.DataFrame()\n",
    "    new_features['user_id'] = df['user_id']\n",
    "\n",
    "    # 1. 最常用的交通方式（整体频率最高）\n",
    "    new_features['最常用的出行方式'] = df.apply(\n",
    "        lambda row: Counter(row['sorted_ord_biz']).most_common(1)[0][0]\n",
    "        if row['sorted_ord_biz'] else None, axis=1\n",
    "    )\n",
    "\n",
    "    # 2. 最近常用的交通方式（取最近3次记录中频率最高的，不足3次则取全部）\n",
    "    def get_recent_mode(row):\n",
    "        if not row['sorted_ord_biz']:\n",
    "            return None\n",
    "        # 按时间排序（已排序但确保顺序），取最近3条\n",
    "        combined = list(zip(row['sorted_ord_biz'], row['sorted_ord_time']))\n",
    "        combined_sorted = sorted(combined, key=lambda x: x[1], reverse=True)  # 最近的在前\n",
    "        recent_topK = 3 if len(combined_sorted) < 15 else 5\n",
    "        recent = combined_sorted[:recent_topK]  # 取最近3次\n",
    "        recent_modes = [x[0] for x in recent]\n",
    "        return Counter(recent_modes).most_common(1)[0][0]\n",
    "\n",
    "    new_features['最近常用的出行方式'] = df.apply(get_recent_mode, axis=1)\n",
    "\n",
    "    # 3. 周末常用的交通方式（周六日的记录）\n",
    "    def get_weekend_mode(row):\n",
    "        if not row['sorted_ord_biz']:\n",
    "            return None\n",
    "        # 筛选周末记录（5=周六，6=周日，注意：datetime.weekday()中周一为0，周日为6）\n",
    "        weekend_modes = []\n",
    "        for biz, time in zip(row['sorted_ord_biz'], row['sorted_ord_time']):\n",
    "            if time.weekday() in [5, 6]:  # 周六或周日\n",
    "                weekend_modes.append(biz)\n",
    "        if not weekend_modes:\n",
    "            return None\n",
    "        return Counter(weekend_modes).most_common(1)[0][0]\n",
    "\n",
    "    new_features['周末常用出行方式'] = df.apply(get_weekend_mode, axis=1)\n",
    "\n",
    "    # 4. 非周末常用的交通方式（周一至周五的记录）\n",
    "    def get_weekday_mode(row):\n",
    "        if not row['sorted_ord_biz']:\n",
    "            return None\n",
    "        # 筛选工作日记录（0=周一至4=周五）\n",
    "        weekday_modes = []\n",
    "        for biz, time in zip(row['sorted_ord_biz'], row['sorted_ord_time']):\n",
    "            if time.weekday() in [0, 1, 2, 3, 4]:  # 周一至周五\n",
    "                weekday_modes.append(biz)\n",
    "        if not weekday_modes:\n",
    "            return None\n",
    "        return Counter(weekday_modes).most_common(1)[0][0]\n",
    "\n",
    "    new_features['工作日常用出出行方式'] = df.apply(get_weekday_mode, axis=1)\n",
    "\n",
    "    # 5. 早高峰常用方式（7:00-9:00）\n",
    "    def get_morning_peak_mode(row):\n",
    "        if not row['sorted_ord_biz']:\n",
    "            return None\n",
    "        morning_modes = []\n",
    "        for biz, time in zip(row['sorted_ord_biz'], row['sorted_ord_time']):\n",
    "            if 7 <= time.hour < 9:  # 早高峰时段\n",
    "                morning_modes.append(biz)\n",
    "        if not morning_modes:\n",
    "            return None\n",
    "        return Counter(morning_modes).most_common(1)[0][0]\n",
    "\n",
    "    new_features['早高峰常用出行方式'] = df.apply(get_morning_peak_mode, axis=1)\n",
    "\n",
    "    # 6. 晚高峰常用方式（17:00-19:00）\n",
    "    def get_evening_peak_mode(row):\n",
    "        if not row['sorted_ord_biz']:\n",
    "            return None\n",
    "        evening_modes = []\n",
    "        for biz, time in zip(row['sorted_ord_biz'], row['sorted_ord_time']):\n",
    "            if 17 <= time.hour < 19:  # 晚高峰时段\n",
    "                evening_modes.append(biz)\n",
    "        if not evening_modes:\n",
    "            return None\n",
    "        return Counter(evening_modes).most_common(1)[0][0]\n",
    "\n",
    "    new_features['晚高峰常用出行方式'] = df.apply(get_evening_peak_mode, axis=1)\n",
    "\n",
    "    # 7. 各种出行方式的统计\n",
    "    def get_all_mode_count(row):\n",
    "        if not row['sorted_ord_biz']:\n",
    "            return None\n",
    "\n",
    "        return dict(Counter(row['sorted_ord_biz']))\n",
    "\n",
    "    new_features['各种出行方式次数统计'] = df.apply(get_all_mode_count, axis=1)\n",
    "\n",
    "    # 8、最近三次出行方式\n",
    "    def get_recent_three_mode(row):\n",
    "        if not row['sorted_ord_biz']:\n",
    "            return None\n",
    "        return row['sorted_ord_biz'][:3]\n",
    "\n",
    "    new_features['最近三次出行方式'] = df.apply(get_recent_three_mode, axis=1)\n",
    "\n",
    "    # 9、最近一次使用情况\n",
    "    def get_last_mode_info(row):\n",
    "        if not row['sorted_ord_biz']:\n",
    "            return None\n",
    "        last_mode = row['sorted_ord_biz'][-1]\n",
    "        last_time = row['sorted_ord_time'][-1]\n",
    "        return {'出行方式': last_mode, '出行时间': str(last_time)}\n",
    "\n",
    "    new_features['最近一次使用情况'] = df.apply(get_last_mode_info, axis=1)\n",
    "    # 合并原数据与新特征（按uid匹配）\n",
    "    result = pd.merge(df, new_features.drop('user_id', axis=1), left_index=True, right_index=True)\n",
    "    return result\n"
   ],
   "id": "fadc338a2706c7fb",
   "outputs": [],
   "execution_count": 92
  },
  {
   "metadata": {
    "ExecuteTime": {
     "end_time": "2025-07-12T13:41:51.870550Z",
     "start_time": "2025-07-12T13:41:51.865995Z"
    }
   },
   "cell_type": "code",
   "source": [
    "def load_data(file_path='../DATA/训练数据.csv'):\n",
    "    df = pd.read_csv(file_path)\n",
    "    df = process_list_fields(df)\n",
    "    df = analyze_travel_patterns(df)\n",
    "    return df"
   ],
   "id": "b66a6511868a064a",
   "outputs": [],
   "execution_count": 93
  },
  {
   "metadata": {
    "ExecuteTime": {
     "end_time": "2025-07-12T13:41:53.147071Z",
     "start_time": "2025-07-12T13:41:53.133521Z"
    }
   },
   "cell_type": "code",
   "source": [
    "def build_prompt(row):\n",
    "    \"\"\"将特征转化为Prompt\"\"\"\n",
    "    prompt = f\"用户信息：所在城市：{row['city_name']}\\n\"\n",
    "    prompt += f\"各种出行方式次数统计：使用{', '.join([f'{k}{v}次' for k,v in row['各种出行方式次数统计'].items()])}。\\n\"\n",
    "    prompt += f\"最常用的出行方式：{row['最常用的出行方式']}。\\n\"\n",
    "    prompt += f\"最近常用的出行方式：{row['最近常用的出行方式']}。\\n\"\n",
    "    prompt += f\"周末常用出行方式：{row['周末常用出行方式']}。\\n\"\n",
    "    prompt += f\"工作日常用出出行方式：{row['工作日常用出出行方式']}。\\n\"\n",
    "    prompt += f\"早高峰常用出行方式：{row['早高峰常用出行方式']}。\\n\"\n",
    "    prompt += f\"晚高峰常用出行方式：{row['晚高峰常用出行方式']}。\\n\"\n",
    "    prompt += f\"最近三次出行方式：{row['最近三次出行方式']}。\\n\"\n",
    "    prompt += f\"最近一次使用情况：{row['最近一次使用情况']}。\\n\"\n",
    "    prompt += \"请预测该用户下一次的出行方式：\\n\"\n",
    "    return prompt\n",
    "\n",
    "# 生成训练集（JSON格式，适配LLaMA-Factory）\n",
    "def generate_dataset(features):\n",
    "    dataset = []\n",
    "    for _, row in features.iterrows():\n",
    "        prompt = build_prompt(row)\n",
    "        dataset.append({\n",
    "            'user_id': row['user_id'],\n",
    "            \"conversations\": [\n",
    "                {\"from\": \"human\", \"value\": prompt},\n",
    "                {\"from\": \"gpt\", \"value\": row['label']}\n",
    "            ]\n",
    "        })\n",
    "    pd.DataFrame(dataset).to_json(\"../DATA/user_travel_intent.jsonl\", orient=\"records\", force_ascii=False, lines=True)"
   ],
   "id": "1a44eb683e9c4332",
   "outputs": [],
   "execution_count": 94
  },
  {
   "metadata": {
    "ExecuteTime": {
     "end_time": "2025-07-12T13:42:18.541581Z",
     "start_time": "2025-07-12T13:41:54.014402Z"
    }
   },
   "cell_type": "code",
   "source": "df = load_data()",
   "id": "c7c058bbd976cac7",
   "outputs": [],
   "execution_count": 95
  },
  {
   "metadata": {
    "ExecuteTime": {
     "end_time": "2025-07-12T13:42:19.308098Z",
     "start_time": "2025-07-12T13:42:18.544582Z"
    }
   },
   "cell_type": "code",
   "source": "generate_dataset(df)",
   "id": "50e784f3f5d8440",
   "outputs": [],
   "execution_count": 96
  },
  {
   "metadata": {
    "ExecuteTime": {
     "end_time": "2025-07-12T13:51:03.472892Z",
     "start_time": "2025-07-12T13:51:03.410386Z"
    }
   },
   "cell_type": "code",
   "source": "data = pd.read_json('../DATA/user_travel_intent.jsonl', lines=True).head(2)",
   "id": "f41a915473d732c9",
   "outputs": [],
   "execution_count": 104
  },
  {
   "metadata": {
    "ExecuteTime": {
     "end_time": "2025-07-12T13:52:15.010948Z",
     "start_time": "2025-07-12T13:52:14.999520Z"
    }
   },
   "cell_type": "code",
   "source": "data.iloc[0].conversations[0]['value']",
   "id": "39af215048212bbe",
   "outputs": [
    {
     "data": {
      "text/plain": [
       "\"用户信息：所在城市：昆明市\\n各种出行方式次数统计：使用助力车39次, 单车11次, 顺风车7次, 打车1次, 租车2次。\\n最常用的出行方式：助力车。\\n最近常用的出行方式：助力车。\\n周末常用出行方式：助力车。\\n工作日常用出出行方式：助力车。\\n早高峰常用出行方式：助力车。\\n晚高峰常用出行方式：助力车。\\n最近三次出行方式：['助力车', '助力车', '助力车']。\\n最近一次使用情况：{'出行方式': '租车', '出行时间': '2024-12-01 10:10:03'}。\\n请预测该用户下一次的出行方式：\\n\""
      ]
     },
     "execution_count": 110,
     "metadata": {},
     "output_type": "execute_result"
    }
   ],
   "execution_count": 110
  },
  {
   "metadata": {
    "ExecuteTime": {
     "end_time": "2025-07-12T13:52:33.837738Z",
     "start_time": "2025-07-12T13:52:33.824713Z"
    }
   },
   "cell_type": "code",
   "source": "data.iloc[0].conversations[1]['value']",
   "id": "fe2bfcf22d797e61",
   "outputs": [
    {
     "data": {
      "text/plain": [
       "'租车'"
      ]
     },
     "execution_count": 112,
     "metadata": {},
     "output_type": "execute_result"
    }
   ],
   "execution_count": 112
  },
  {
   "metadata": {},
   "cell_type": "code",
   "outputs": [],
   "execution_count": null,
   "source": "",
   "id": "e9d5597c22b55574"
  },
  {
   "metadata": {
    "ExecuteTime": {
     "end_time": "2025-07-12T16:15:32.804728Z",
     "start_time": "2025-07-12T16:15:32.790396Z"
    }
   },
   "cell_type": "code",
   "source": "",
   "id": "c206b9040e88cb2a",
   "outputs": [],
   "execution_count": null
  },
  {
   "metadata": {
    "ExecuteTime": {
     "end_time": "2025-07-12T16:57:36.209403Z",
     "start_time": "2025-07-12T16:57:36.197412Z"
    }
   },
   "cell_type": "code",
   "source": "",
   "id": "72403a65942c412a",
   "outputs": [],
   "execution_count": 139
  },
  {
   "metadata": {
    "ExecuteTime": {
     "end_time": "2025-07-13T02:38:52.884626Z",
     "start_time": "2025-07-13T02:38:52.873543Z"
    }
   },
   "cell_type": "code",
   "source": [
    "'''\n",
    "top100:\n",
    "ds: 0.903\n",
    "qw73: 0.91\n",
    "qw-plus: 0.8950\n",
    "\n",
    "v2:修复倒数第三次的问题\n",
    "ds-0.8677 线上：0.8328\n",
    "qwplus-0.8866\n",
    "\n",
    "v3：只保留前45天的记录\n",
    "qwplus-0.9136 线上：87\n",
    "'''\n",
    "\n",
    "import pandas as pd\n",
    "from sklearn.metrics import f1_score\n",
    "df = pd.read_csv('../outputs/ds-val-inference.csv').head(100)\n",
    "f1 = f1_score(y_true=df['labels'].tolist(), y_pred=df['prediction'].tolist(), average='weighted')\n",
    "f1"
   ],
   "id": "91866537ca6e849",
   "outputs": [
    {
     "data": {
      "text/plain": [
       "np.float64(0.8950586026211954)"
      ]
     },
     "execution_count": 7,
     "metadata": {},
     "output_type": "execute_result"
    }
   ],
   "execution_count": 7
  },
  {
   "metadata": {
    "ExecuteTime": {
     "end_time": "2025-07-12T16:58:03.087766Z",
     "start_time": "2025-07-12T16:58:03.076257Z"
    }
   },
   "cell_type": "code",
   "source": "",
   "id": "93b235cebf004ae6",
   "outputs": [],
   "execution_count": null
  },
  {
   "metadata": {
    "jupyter": {
     "is_executing": true
    }
   },
   "cell_type": "code",
   "source": [
    "import os\n",
    "os.environ['CUDA_VISIBLE_DEVICES'] = '0'\n",
    "\n",
    "from swift.llm import ModelType, InferArguments, infer_main\n",
    "infer_args = InferArguments(\n",
    "    model_type='qwen2-3b-chat',\n",
    "    model_id_or_path='D:/LZL/workspace/ModelHub/Qwen2.5-3B-Instruct',\n",
    "    eval_human=True)\n",
    "infer_main(infer_args)\n"
   ],
   "id": "f7dd2b7c98838071",
   "outputs": [],
   "execution_count": null
  },
  {
   "metadata": {},
   "cell_type": "code",
   "outputs": [],
   "execution_count": null,
   "source": "",
   "id": "c23cbc967215be85"
  }
 ],
 "metadata": {
  "kernelspec": {
   "display_name": "Python 3",
   "language": "python",
   "name": "python3"
  },
  "language_info": {
   "codemirror_mode": {
    "name": "ipython",
    "version": 2
   },
   "file_extension": ".py",
   "mimetype": "text/x-python",
   "name": "python",
   "nbconvert_exporter": "python",
   "pygments_lexer": "ipython2",
   "version": "2.7.6"
  }
 },
 "nbformat": 4,
 "nbformat_minor": 5
}
