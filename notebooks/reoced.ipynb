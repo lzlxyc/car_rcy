{
 "cells": [
  {
   "metadata": {},
   "cell_type": "markdown",
   "source": [
    "\n",
    "\n",
    "\n",
    "\n"
   ],
   "id": "e3944dfdf93a23ce"
  },
  {
   "metadata": {
    "ExecuteTime": {
     "end_time": "2025-07-13T02:33:49.854566Z",
     "start_time": "2025-07-13T02:33:49.840939Z"
    }
   },
   "cell_type": "code",
   "source": "",
   "id": "903c9bd2e8fd76bb",
   "outputs": [],
   "execution_count": null
  },
  {
   "metadata": {},
   "cell_type": "code",
   "outputs": [],
   "execution_count": null,
   "source": "",
   "id": "789103147230f10a"
  },
  {
   "metadata": {},
   "cell_type": "markdown",
   "source": "",
   "id": "486baf1db28e1ec2"
  }
 ],
 "metadata": {
  "kernelspec": {
   "display_name": "Python 3",
   "language": "python",
   "name": "python3"
  },
  "language_info": {
   "codemirror_mode": {
    "name": "ipython",
    "version": 2
   },
   "file_extension": ".py",
   "mimetype": "text/x-python",
   "name": "python",
   "nbconvert_exporter": "python",
   "pygments_lexer": "ipython2",
   "version": "2.7.6"
  }
 },
 "nbformat": 4,
 "nbformat_minor": 5
}
